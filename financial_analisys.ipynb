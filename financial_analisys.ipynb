{
  "nbformat": 4,
  "nbformat_minor": 0,
  "metadata": {
    "colab": {
      "provenance": [],
      "authorship_tag": "ABX9TyMLbJaUkMO52ASE30XVVNpR",
      "include_colab_link": true
    },
    "kernelspec": {
      "name": "python3",
      "display_name": "Python 3"
    },
    "language_info": {
      "name": "python"
    }
  },
  "cells": [
    {
      "cell_type": "markdown",
      "metadata": {
        "id": "view-in-github",
        "colab_type": "text"
      },
      "source": [
        "<a href=\"https://colab.research.google.com/github/miller00315/crew_ai_studies/blob/main/financial_analisys.ipynb\" target=\"_parent\"><img src=\"https://colab.research.google.com/assets/colab-badge.svg\" alt=\"Open In Colab\"/></a>"
      ]
    },
    {
      "cell_type": "code",
      "execution_count": 1,
      "metadata": {
        "id": "xq2iegoQ-mbS"
      },
      "outputs": [],
      "source": [
        "#!pip install crewai crewai_tools langchain_community"
      ]
    },
    {
      "cell_type": "code",
      "source": [
        "# Warning control\n",
        "import warnings\n",
        "warnings.filterwarnings('ignore')"
      ],
      "metadata": {
        "id": "opZkCGif-nwh"
      },
      "execution_count": 2,
      "outputs": []
    },
    {
      "cell_type": "code",
      "source": [
        "import os\n",
        "\n",
        "os.environ[\"SERPER_API_KEY\"] = ''\n",
        "os.environ[\"GROQ_API_KEY\"] = ''"
      ],
      "metadata": {
        "id": "eDNPfi8V-nuc"
      },
      "execution_count": 3,
      "outputs": []
    },
    {
      "cell_type": "code",
      "source": [
        "from crewai import Agent, Crew, Task, LLM"
      ],
      "metadata": {
        "id": "JrNfeNnz-nqE"
      },
      "execution_count": 4,
      "outputs": []
    },
    {
      "cell_type": "code",
      "source": [
        "llm = LLM(model=\"groq/mixtral-8x7b-32768\", api_key=os.environ[\"GROQ_API_KEY\"])"
      ],
      "metadata": {
        "id": "AfAr3ywW-nn5"
      },
      "execution_count": 5,
      "outputs": []
    },
    {
      "cell_type": "markdown",
      "source": [
        "# **crewAI Tools**"
      ],
      "metadata": {
        "id": "Z7-sCdk3CK5Q"
      }
    },
    {
      "cell_type": "code",
      "source": [
        "from crewai_tools import ScrapeWebsiteTool, SerperDevTool\n",
        "\n",
        "search_tool = SerperDevTool()\n",
        "scrape_tool = ScrapeWebsiteTool()"
      ],
      "metadata": {
        "colab": {
          "base_uri": "https://localhost:8080/"
        },
        "id": "t9Iiv-II-nlW",
        "outputId": "e3675ab1-a9de-449d-f13b-fb1baac4959c"
      },
      "execution_count": 6,
      "outputs": [
        {
          "output_type": "stream",
          "name": "stderr",
          "text": [
            "/usr/local/lib/python3.11/dist-packages/pydantic/_internal/_config.py:295: PydanticDeprecatedSince20: Support for class-based `config` is deprecated, use ConfigDict instead. Deprecated in Pydantic V2.0 to be removed in V3.0. See Pydantic V2 Migration Guide at https://errors.pydantic.dev/2.10/migration/\n",
            "  warnings.warn(DEPRECATION_MESSAGE, DeprecationWarning)\n",
            "/usr/local/lib/python3.11/dist-packages/crewai_tools/tools/scrapegraph_scrape_tool/scrapegraph_scrape_tool.py:34: PydanticDeprecatedSince20: Pydantic V1 style `@validator` validators are deprecated. You should migrate to Pydantic V2 style `@field_validator` validators, see the migration guide for more details. Deprecated in Pydantic V2.0 to be removed in V3.0. See Pydantic V2 Migration Guide at https://errors.pydantic.dev/2.10/migration/\n",
            "  @validator(\"website_url\")\n",
            "/usr/local/lib/python3.11/dist-packages/crewai_tools/tools/selenium_scraping_tool/selenium_scraping_tool.py:26: PydanticDeprecatedSince20: Pydantic V1 style `@validator` validators are deprecated. You should migrate to Pydantic V2 style `@field_validator` validators, see the migration guide for more details. Deprecated in Pydantic V2.0 to be removed in V3.0. See Pydantic V2 Migration Guide at https://errors.pydantic.dev/2.10/migration/\n",
            "  @validator(\"website_url\")\n",
            "/usr/local/lib/python3.11/dist-packages/crewai_tools/tools/vision_tool/vision_tool.py:15: PydanticDeprecatedSince20: Pydantic V1 style `@validator` validators are deprecated. You should migrate to Pydantic V2 style `@field_validator` validators, see the migration guide for more details. Deprecated in Pydantic V2.0 to be removed in V3.0. See Pydantic V2 Migration Guide at https://errors.pydantic.dev/2.10/migration/\n",
            "  @validator(\"image_path_url\")\n"
          ]
        }
      ]
    },
    {
      "cell_type": "code",
      "source": [
        "data_analyst_agent = Agent(\n",
        "    llm=llm,\n",
        "    role=\"Data Analyst\",\n",
        "    goal=\"Monitor and analyze market data in real-time \"\n",
        "         \"to identify trends and predict market movements.\",\n",
        "    backstory=\"Specializing in financial markets, this agent \"\n",
        "              \"uses statistical modeling and machine learning \"\n",
        "              \"to provide crucial insights. With a knack for data, \"\n",
        "              \"the Data Analyst Agent is the cornerstone for \"\n",
        "              \"informing trading decisions.\",\n",
        "    verbose=True,\n",
        "    allow_delegation=True,\n",
        "    tools = [scrape_tool, search_tool]\n",
        ")"
      ],
      "metadata": {
        "id": "zbwYVTjI-ni8"
      },
      "execution_count": 7,
      "outputs": []
    },
    {
      "cell_type": "code",
      "source": [
        "trading_strategy_agent = Agent(\n",
        "    llm=llm,\n",
        "    role=\"Trading Strategy Developer\",\n",
        "    goal=\"Develop and test various trading strategies based \"\n",
        "         \"on insights from the Data Analyst Agent.\",\n",
        "    backstory=\"Equipped with a deep understanding of financial \"\n",
        "              \"markets and quantitative analysis, this agent \"\n",
        "              \"devises and refines trading strategies. It evaluates \"\n",
        "              \"the performance of different approaches to determine \"\n",
        "              \"the most profitable and risk-averse options.\",\n",
        "    verbose=True,\n",
        "    allow_delegation=True,\n",
        "    tools = [scrape_tool, search_tool]\n",
        ")"
      ],
      "metadata": {
        "id": "kiePUUFqCPJy"
      },
      "execution_count": 8,
      "outputs": []
    },
    {
      "cell_type": "code",
      "source": [
        "execution_agent = Agent(\n",
        "    llm=llm,\n",
        "    role=\"Trade Advisor\",\n",
        "    goal=\"Suggest optimal trade execution strategies \"\n",
        "         \"based on approved trading strategies.\",\n",
        "    backstory=\"This agent specializes in analyzing the timing, price, \"\n",
        "              \"and logistical details of potential trades. By evaluating \"\n",
        "              \"these factors, it provides well-founded suggestions for \"\n",
        "              \"when and how trades should be executed to maximize \"\n",
        "              \"efficiency and adherence to strategy.\",\n",
        "    verbose=True,\n",
        "    allow_delegation=True,\n",
        "    tools = [scrape_tool, search_tool]\n",
        ")"
      ],
      "metadata": {
        "id": "Ag925Hn6CPHG"
      },
      "execution_count": 9,
      "outputs": []
    },
    {
      "cell_type": "code",
      "source": [
        "risk_management_agent = Agent(\n",
        "    llm=llm,\n",
        "    role=\"Risk Advisor\",\n",
        "    goal=\"Evaluate and provide insights on the risks \"\n",
        "         \"associated with potential trading activities.\",\n",
        "    backstory=\"Armed with a deep understanding of risk assessment models \"\n",
        "              \"and market dynamics, this agent scrutinizes the potential \"\n",
        "              \"risks of proposed trades. It offers a detailed analysis of \"\n",
        "              \"risk exposure and suggests safeguards to ensure that \"\n",
        "              \"trading activities align with the firm’s risk tolerance.\",\n",
        "    verbose=True,\n",
        "    allow_delegation=True,\n",
        "    tools = [scrape_tool, search_tool]\n",
        ")"
      ],
      "metadata": {
        "id": "mv_O3bh2CPE7"
      },
      "execution_count": 10,
      "outputs": []
    },
    {
      "cell_type": "markdown",
      "source": [
        "**Creating Tasks**"
      ],
      "metadata": {
        "id": "bceOqTMpDNnF"
      }
    },
    {
      "cell_type": "code",
      "source": [
        "# Task for Data Analyst Agent: Analyze Market Data\n",
        "data_analysis_task = Task(\n",
        "    description=(\n",
        "        \"Continuously monitor and analyze market data for \"\n",
        "        \"the selected stock ({stock_selection}). \"\n",
        "        \"Use statistical modeling and machine learning to \"\n",
        "        \"identify trends and predict market movements.\"\n",
        "    ),\n",
        "    expected_output=(\n",
        "        \"Insights and alerts about significant market \"\n",
        "        \"opportunities or threats for {stock_selection}.\"\n",
        "    ),\n",
        "    agent=data_analyst_agent,\n",
        ")"
      ],
      "metadata": {
        "id": "Tnk5C7pJDNZy"
      },
      "execution_count": 11,
      "outputs": []
    },
    {
      "cell_type": "code",
      "source": [
        "# Task for Trading Strategy Agent: Develop Trading Strategies\n",
        "strategy_development_task = Task(\n",
        "    description=(\n",
        "        \"Develop and refine trading strategies based on \"\n",
        "        \"the insights from the Data Analyst and \"\n",
        "        \"user-defined risk tolerance ({risk_tolerance}). \"\n",
        "        \"Consider trading preferences ({trading_strategy_preference}).\"\n",
        "    ),\n",
        "    expected_output=(\n",
        "        \"A set of potential trading strategies for {stock_selection} \"\n",
        "        \"that align with the user's risk tolerance.\"\n",
        "    ),\n",
        "    agent=trading_strategy_agent,\n",
        ")"
      ],
      "metadata": {
        "id": "9PwEObpzDNXJ"
      },
      "execution_count": 12,
      "outputs": []
    },
    {
      "cell_type": "code",
      "source": [
        "# Task for Trade Advisor Agent: Plan Trade Execution\n",
        "execution_planning_task = Task(\n",
        "    description=(\n",
        "        \"Analyze approved trading strategies to determine the \"\n",
        "        \"best execution methods for {stock_selection}, \"\n",
        "        \"considering current market conditions and optimal pricing.\"\n",
        "    ),\n",
        "    expected_output=(\n",
        "        \"Detailed execution plans suggesting how and when to \"\n",
        "        \"execute trades for {stock_selection}.\"\n",
        "    ),\n",
        "    agent=execution_agent,\n",
        ")\n"
      ],
      "metadata": {
        "id": "3nU4kKu8DNVN"
      },
      "execution_count": 13,
      "outputs": []
    },
    {
      "cell_type": "code",
      "source": [
        "# Task for Risk Advisor Agent: Assess Trading Risks\n",
        "risk_assessment_task = Task(\n",
        "    description=(\n",
        "        \"Evaluate the risks associated with the proposed trading \"\n",
        "        \"strategies and execution plans for {stock_selection}. \"\n",
        "        \"Provide a detailed analysis of potential risks \"\n",
        "        \"and suggest mitigation strategies.\"\n",
        "    ),\n",
        "    expected_output=(\n",
        "        \"A comprehensive risk analysis report detailing potential \"\n",
        "        \"risks and mitigation recommendations for {stock_selection}.\"\n",
        "    ),\n",
        "    agent=risk_management_agent,\n",
        ")"
      ],
      "metadata": {
        "id": "Ivki3N8cDNSL"
      },
      "execution_count": 14,
      "outputs": []
    },
    {
      "cell_type": "markdown",
      "source": [],
      "metadata": {
        "id": "pJOTKQvdDB7r"
      }
    },
    {
      "cell_type": "markdown",
      "source": [
        "**Creating the Crew**\n",
        "* The Process class helps to delegate the workflow to the Agents (kind of like a Manager at work)\n",
        "* In the example below, it will run this hierarchically.\n",
        "manager_llm lets you choose the \"manager\" LLM you want to use."
      ],
      "metadata": {
        "id": "yvBaWbyPCzrA"
      }
    },
    {
      "cell_type": "code",
      "source": [
        "from crewai import Crew, Process\n",
        "from langchain_openai import ChatOpenAI\n",
        "\n",
        "# Define the crew with agents and tasks\n",
        "financial_trading_crew = Crew(\n",
        "    agents=[data_analyst_agent,\n",
        "            trading_strategy_agent,\n",
        "            execution_agent,\n",
        "            risk_management_agent],\n",
        "\n",
        "    tasks=[data_analysis_task,\n",
        "           strategy_development_task,\n",
        "           execution_planning_task,\n",
        "           risk_assessment_task],\n",
        "\n",
        "    manager_llm=llm,\n",
        "    process=Process.hierarchical,\n",
        "    verbose=True\n",
        ")"
      ],
      "metadata": {
        "id": "oSWnVQ1dCPCV"
      },
      "execution_count": 15,
      "outputs": []
    },
    {
      "cell_type": "markdown",
      "source": [
        "**Running the Crew**\n",
        "* Set the inputs for the execution of the crew."
      ],
      "metadata": {
        "id": "uBPoPmgaDc6A"
      }
    },
    {
      "cell_type": "code",
      "source": [
        "# Example data for kicking off the process\n",
        "financial_trading_inputs = {\n",
        "    'stock_selection': 'AAPL',\n",
        "    'initial_capital': '100000',\n",
        "    'risk_tolerance': 'Medium',\n",
        "    'trading_strategy_preference': 'Day Trading',\n",
        "    'news_impact_consideration': True\n",
        "}"
      ],
      "metadata": {
        "id": "zDD7GXm_CPAK"
      },
      "execution_count": 16,
      "outputs": []
    },
    {
      "cell_type": "code",
      "source": [
        "### this execution will take some time to run\n",
        "result = financial_trading_crew.kickoff(inputs=financial_trading_inputs)"
      ],
      "metadata": {
        "colab": {
          "base_uri": "https://localhost:8080/",
          "height": 1000
        },
        "id": "V7yDj8_cCO9p",
        "outputId": "faebc12f-804c-49d7-bcfa-f129924f2e22"
      },
      "execution_count": 17,
      "outputs": [
        {
          "output_type": "stream",
          "name": "stdout",
          "text": [
            "\u001b[1m\u001b[94m \n",
            "[2025-03-12 01:56:45][🚀 CREW 'CREW' STARTED, DD725C56-24AE-49AA-9C7F-EB68033E3019]: 2025-03-12 01:56:45.177349\u001b[00m\n",
            "\u001b[1m\u001b[94m \n",
            "[2025-03-12 01:56:45][📋 TASK STARTED: CONTINUOUSLY MONITOR AND ANALYZE MARKET DATA FOR THE SELECTED STOCK (AAPL). USE STATISTICAL MODELING AND MACHINE LEARNING TO IDENTIFY TRENDS AND PREDICT MARKET MOVEMENTS.]: 2025-03-12 01:56:45.197591\u001b[00m\n",
            "\u001b[1m\u001b[94m \n",
            "[2025-03-12 01:56:45][🤖 AGENT 'CREW MANAGER' STARTED TASK]: 2025-03-12 01:56:45.199015\u001b[00m\n",
            "\u001b[1m\u001b[95m# Agent:\u001b[00m \u001b[1m\u001b[92mCrew Manager\u001b[00m\n",
            "\u001b[95m## Task:\u001b[00m \u001b[92mContinuously monitor and analyze market data for the selected stock (AAPL). Use statistical modeling and machine learning to identify trends and predict market movements.\u001b[00m\n",
            "\u001b[1m\u001b[94m \n",
            "[2025-03-12 01:56:45][🤖 LLM CALL STARTED]: 2025-03-12 01:56:45.199234\u001b[00m\n",
            "\u001b[1m\u001b[94m \n",
            "[2025-03-12 01:56:46][✅ LLM CALL COMPLETED]: 2025-03-12 01:56:46.932445\u001b[00m\n",
            "\u001b[1m\u001b[94m \n",
            "[2025-03-12 01:56:46][🤖 TOOL USAGE STARTED: 'READ WEBSITE CONTENT']: 2025-03-12 01:56:46.933608\u001b[00m\n",
            "\u001b[1m\u001b[94m \n",
            "[2025-03-12 01:56:48][✅ TOOL USAGE FINISHED: 'READ WEBSITE CONTENT']: 2025-03-12 01:56:48.299311\u001b[00m\n",
            "\n",
            "\n",
            "\u001b[1m\u001b[95m# Agent:\u001b[00m \u001b[1m\u001b[92mCrew Manager\u001b[00m\n",
            "\u001b[95m## Thought:\u001b[00m \u001b[92mTo provide the best insights and alerts about significant market opportunities or threats for AAPL, I need to analyze the current market data and trends. I will start by reading the latest news and analysis about AAPL from financial websites. Then, I will delegate a task to the Data Analyst to gather and analyze historical market data for AAPL. After that, I will ask the Data Analyst specific questions about the data and trends they have found. Finally, I will search the internet for any additional information or perspectives that could be relevant.\u001b[00m\n",
            "\u001b[95m## Using tool:\u001b[00m \u001b[92mRead website content\u001b[00m\n",
            "\u001b[95m## Tool Input:\u001b[00m \u001b[92m\n",
            "\"{\\\"website_url\\\": \\\"https://www.financialtimes.com/tech/apple\\\"}\"\u001b[00m\n",
            "\u001b[95m## Tool Output:\u001b[00m \u001b[92m\n",
            "Financial Times Accessibility help Skip to navigation Skip to content Skip to footer Visit Markets Data Sign In Subscribe Open side navigation menu Open search bar Financial Times Subscribe Sign In Search the FT Search Close search bar Close Home Markets Data Home World Sections World Home Middle East war Global Economy UK US China Africa Asia Pacific Emerging Markets Europe War in Ukraine Americas Middle East & North Africa Most Read Elon Musk’s self-destruction Trump backs down on 50% steel and aluminium tariffs on Canada Ukraine willing to accept 30-day US-brokered ceasefire Wall Street loses hope in a ‘Trump put’ for markets Wall Street slide pulls S&P 500 into correction territory US Sections US Home US Economy Investing in America US Companies US Politics & Policy US Presidential Election 2024 Most Read Elon Musk’s self-destruction Trump backs down on 50% steel and aluminium tariffs on Canada Ukraine willing to accept 30-day US-brokered ceasefire Wall Street loses hope in a ‘Trump put’ for markets Wall Street slide pulls S&P 500 into correction territory Companies Sections Companies Home Energy Financials Health Industrials Media Professional Services Retail & Consumer Tech Sector Telecoms Transport Most Read Trump backs down on 50% steel and aluminium tariffs on Canada Wall Street loses hope in a ‘Trump put’ for markets What lies behind the dramatic shift in markets Trump promises to buy a Tesla after electric-car maker’s shares tumble Ship’s captain arrested after North Sea collision Tech Sections Tech Home Artificial intelligence Semiconductors Cyber Security Social Media Most Read Tesla stock is falling because Elon Musk’s stock is falling Musk claims cyber attack on social network X came from ‘Ukraine area’ How ‘inference’ is driving competition to Nvidia’s AI chip dominance OpenAI forges $12bn contract with CoreWeave Musk’s Starlink in tie-up with domestic tycoon to enter India Markets Sections Markets Home Alphaville Markets Data Crypto Capital Markets Commodities Currencies Equities Wealth Management Moral Money ETF Hub Fund Management Trading Most Read Trump backs down on 50% steel and aluminium tariffs on Canada Wall Street loses hope in a ‘Trump put’ for markets Wall Street slide pulls S&P 500 into correction territory What lies behind the dramatic shift in markets Tesla stock is falling because Elon Musk’s stock is falling Climate Opinion Sections Opinion Home Columnists The FT View The Big Read Lex Obituaries Letters Most Read Elon Musk’s self-destruction What lies behind the dramatic shift in markets How Europe can take up America’s mantle Tesla stock is falling because Elon Musk’s stock is falling Trump is making Europe great again Lex Work & Careers Sections Work & Careers Home Business School Rankings Business Education Europe's Start-Up Hubs Entrepreneurship Recruitment Business Books Business Travel Working It Most Read Retailers risk multibillion-pound bill as UK equal pay claims gain momentum The office lunch disrupters Noteworthy new books on economics Writing this memo does not count as one of your five things Business school teaching case study: How can Ørsted overcome its US challenges? Life & Arts Sections Life & Arts Home Arts Books Food & Drink FT Magazine House & Home Style Puzzles Travel FT Globetrotter Most Read US airlines’ warnings of lower demand cast shadow over economic outlook ThruDark wants to dress you like the special forces Let it drape: good riddance to skinny menswear The infrared saunas upping the longevity ante Chess: Oxford vs Cambridge almost level after 152 years HTSI Menu Search Home World US Companies Tech Markets Climate Opinion Lex Work & Careers Life & Arts HTSI Financial Times Subscribe Sign In Search the FT Search Close search bar Close Financial Times Home War in Ukraine Ukraine willing to accept 30-day US-brokered ceasefire Washington says it will ‘immediately’ restore intelligence sharing and military aid after Kyiv accepts proposal 2 hours ago US equities Wall Street loses hope in a ‘Trump put’ for markets Editor's picks opinion content.  Elon Musk’s self-destruction Edward Luce opinion content.  How Europe can take up America’s mantle Martin Wolf TOP STORIES Trump tariffs Trump backs down on 50% steel and aluminium tariffs on Canada U-turn comes after province of Ontario removes surcharge for power exports to the US but 25% levies to still take effect Toyota considers exporting from UK to US to ease impact of Trump tariffs 2 hours ago Airlines US airlines’ warnings of lower demand cast shadow over economic outlook American, Delta and Southwest trim financial guidance on corporate and consumer softness 3 hours ago Portugal Portugal faces fresh elections after government collapses over ethics scandal Prime Minister Luís Montenegro loses confidence vote over consultancy he tried to transfer to his family US politics & policy US House passes vote to extend federal funding until end of September Legislation on stop-gap measure now moves to the Senate to avoid a government shutdown 3 hours ago Trump to slash workforce at US education department new Latest from Monetary Policy Radar US inflation Central banks should fear misbehaving inflation expectations 13 hours ago US employment US labour demand broadly stable in January 10 hours ago US interest rates Powell offers message of confidence in US economic strength 102 hours ago Bank of Japan Strong January pay data keeps Bank of Japan on course to increase rates 40 hours ago Spotlight US immigration Trump crackdown forces Latin America’s migrant flows into reverse A Colombian town adapted its economy to Darién Gap travellers. Now only a few are travelling — and in the opposite direction Rheinmetall AG Armin Papperger, the German defence boss intent on re-arming Europe Outspoken Rheinmetall chief whose rising profile has come at personal risk sees transatlantic strains as ‘good for business’ News Financial Times Group Ltd Financial Times announces Jon Slade as new chief executive Commercial boss appointed in media group’s first change of leadership in two decades High frequency trading Nasdaq halts high-speed trading service after regulatory pressure US exchange ends $10,000 a month fast fibre optic business following complaints from rivals Rodrigo Duterte Philippines’ ex-president Duterte sent to The Hague over drug war killings Former leader arrested on International Criminal Court warrant over alleged crimes against humanity Most read opinion content.  Elon Musk’s self-destruction Trump backs down on 50% steel and aluminium tariffs on Canada Ukraine willing to accept 30-day US-brokered ceasefire Wall Street loses hope in a ‘Trump put’ for markets Wall Street slide pulls S&P 500 into correction territory NEWS EU defence High rate of army dropouts pushes German forces to ‘breaking point’ Bundeswehr numbers are shrinking at a time when Berlin is pledging to do more for European defence Von der Leyen says €150bn defence loans should be spent in Europe UK Ship’s captain arrested after North Sea collision Reason for crash still unknown after container vessel struck tanker carrying US military fuel Romania Romania’s top court upholds election ban on Georgescu Far-right presidential candidate backed by Russia cannot run in May vote Tesla Inc Trump promises to buy a Tesla after electric-car maker’s shares tumble US president’s late-night social media post follows company’s 15 per cent share price drop Musk’s Starlink in tie-up with domestic tycoon to enter India Net-Zero Banking Alliance Climate Capital. Banks’ climate alliance calls vote to ditch pledge on limiting warming to 1.5C Proposal to weaken rules follows exodus of members since Trump election Société Générale SocGen chief says ‘nothing is sacred’ as French bank targets cost cuts Slawomir Krupa has overcome scepticism of turnaround, with IT costs and external consultants now in line of fire Latham & Watkins LLP Latham & Watkins hits $7bn revenue mark for first time on resurgent dealmaking Average partner profits at one of the world’s largest law firms increased 29% to $7.1mn last year Hikma Pharmaceuticals PLC Hikma races to launch generic versions of blockbuster obesity drugs Pharma group looks to take advantage as Wegovy and Ozempic start to go off patent next year Opinion opinion content.  There’s no money to be made in Russia American companies shouldn’t assume that a thaw in US ties with Moscow will make doing business there easier Elina Ribakova opinion content.  Lex. Walgreens bondholders could be winners from its debt-laden buyout The price of debt has soared on hopes of a favourable deal opinion content.  What bankers and care home workers have in common Sarah O'Connor opinion content.  Markets Insight. What lies behind the dramatic shift in markets Mohamed El-Erian opinion content.  The FT View. Mark Carney takes on Trump’s America The editorial board opinion content.  The UK’s academic recession is in full swing Glen O'Hara opinion content.  What US military aid suspension means for Ukraine’s soldiers Jack Watling opinion content.  Unhedged. Another day, (maybe more than just) another rout Robert Armstrong More Opinion The FT View Lex Unhedged Markets Insight Inside Business US News Wall Street slide pulls S&P 500 into correction territory Donald Trump’s latest trade broadside against Canada sparks renewed declines in volatile session US and Ukraine hold talks on ending war with Russia US energy groups call on Trump to take steadier approach on policy Wall Street stocks tumble as investors fret over US economic slowdown Ontario hits power exports to US with 25% surcharge as trade war escalates Musk claims cyber attack on social network X came from ‘Ukraine area’ Ukraine will need to make territorial concessions for peace deal, Rubio says More US News US economy US politics & policy US foreign policy US Companies US equities Newswrap Sign up for our newsletter Podcasts Unhedged Podcast. The case for China 22 min listen FT News Briefing. Is this dotcom bust 2.0? 11 min listen Money Clinic with Claer Barrett. Investment Clinic: I'm 67 - will US stocks crash my retirement? 25 min listen The Economics Show. Martin Wolf talks to Keyu Jin: Has China’s economy run out of gas? 31 min listen Life & Arts Arts Books Food & Drink FT Magazine Style House & Home Travel FT Globetrotter HTSI Interiors At Home with the FT. Lisa Perry: ‘This is a gorgeous white box for anything I want to do to it’ Non-Fiction Review. Vanessa Bell: The Life & Art of a Bloomsbury Radical — portrait of a modernist artist Dance Interview. Pam Tanowitz: ‘My work never feels finished — dancers tell me: stop changing things!’ Style HTSI. ThruDark wants to dress you like the special forces Menswear opinion content.  Let it drape: good riddance to skinny menswear Video play video content.  FT Standpoint 2 min video content.  The long walk: towards gender equality in politics 116 hours ago play video content.  FT Film 35 min video content.  'Film me!’: Russia's executions of Ukrainian POWs point to a policy 477 hours ago play video content.  FT Film 31 min video content.  Lars Windhorst and H2O: scandal, spies and the superyacht 2012 hours ago play video content.  FT Film 27 min video content.  How safety lapses hit Boeing's reputation 2204 hours ago Highlights Inside Russia’s shadow war in the Baltics A series of suspected sabotage incidents has exposed the vulnerability of Europe’s undersea infrastructure US-backed miner TechMet seeks to develop Ukraine lithium site Can the US switch off Europe’s weapons? Interview. Trump’s energy chief says US shale can ‘drill, baby, drill’ at low oil price Review. Russia’s Man of War — the arms-dealing story of Viktor Bout Germany’s ‘whatever it takes’ spending push to end years of stagnation The Big Read. The hidden dangers of family offices More highlights Moral Money Due Diligence Cryptocurrencies Special Reports Climate Capital Moral Money Sign up for our newsletter Markets News Wall Street slide pulls S&P 500 into correction territory Donald Trump’s latest trade broadside against Canada sparks renewed declines in volatile session Pimco books 17% instant profit on Thames Water emergency loan Wall Street stocks tumble as investors fret over US economic slowdown Glencore backs cobalt investment company planning to list in London Banks and fintechs join ‘stablecoin gold rush’ Interview. Trump’s energy chief says US shale can ‘drill, baby, drill’ at low oil price UK pension funds stand by defence exclusion in ‘ethical’ funds More markets news Alphaville Markets Data Capital Markets Commodities Currencies Equities Fund Management Wealth Management Trading Moral Money ETF Hub Technology Review. Wanderstop — hymn to the joys of tea-making lacks deep infusion A burnt-out fighter discovers the healing qualities of a good brew in the latest from ‘Stanley Parable’ creator Davey Wreden opinion content.  Lex. Tesla stock is falling because Elon Musk’s stock is falling Lego to bring video game-making in-house as profits rise The Big Read. The British fintechs hoping to crack America Explainer. From hover points to trampoline packaging: how Amazon is aiming to deliver by drone Explainer. Driverless trucks promise to revolutionise freight transport How ‘inference’ is driving competition to Nvidia’s AI chip dominance More technology Cryptofinance Semiconductors Tech Tonic podcast Trading technology Tech start-ups Social Media Artificial intelligence Explore more events from the FT Upcoming events Discover unmissable flagship events with FT journalists to expand your thinking and elevate your career Explore all events FT Live The Future of Hydrogen Demand Assessing use cases, regional hubs and cost competitiveness Thursday, 13 March Online FT Live Commodities Global Summit Delivering stability amid disruption Monday, 24 March Lausanne, Switzerland & Online FT Live Russia vs Ukraine: the final reckoning? Exclusively for FT Subscribers Thursday, 27 March Online Join the discussion FT Forums is a series of members only communities, powered by the Financial Times Women In Business Forum A dedicated programme to accelerate mid-career women into senior leadership. Future Forum An authoritative space for businesses to share ideas, build relationships and develop solutions to future challenges. Climate Capital Council Where businesses share ideas, opportunities and challenges with climate change. Useful links Support View Site Tips Help Centre Contact Us About Us Accessibility myFT Tour Careers Suppliers Legal & Privacy Terms & Conditions Privacy Policy Cookie Policy Manage Cookies Copyright Slavery Statement & Policies Services Share News Tips Securely Individual Subscriptions Professional Subscriptions Republishing Executive Job Search Advertise with the FT Follow the FT on X FT Channels FT Schools Tools Portfolio FT App FT Digital Edition FT Edit Alerts Hub Business School Rankings Subscription Manager News feed Newsletters Currency Converter Community & Events FT Live Events FT Forums Board Director Programme More from the FT Group Markets data delayed by at least 15 minutes. © THE FINANCIAL TIMES LTD 2025. FT and ‘Financial Times’ are trademarks of The Financial Times Ltd. The Financial Times and its journalism are subject to a self-regulation regime under the FT Editorial Code of Practice . Close side navigation menu Edition: International UK Search the FT Search Subscribe for full access Top sections Home World Show more World Middle East war Global Economy UK US China Africa Asia Pacific Emerging Markets Europe War in Ukraine Americas Middle East & North Africa US Show more US US Economy Investing in America US Companies US Politics & Policy US Presidential Election 2024 Companies Show more Companies Energy Financials Health Industrials Media Professional Services Retail & Consumer Tech Sector Telecoms Transport Tech Show more Tech Artificial intelligence Semiconductors Cyber Security Social Media Markets Show more Markets Alphaville Markets Data Crypto Capital Markets Commodities Currencies Equities Wealth Management Moral Money ETF Hub Fund Management Trading Climate Opinion Show more Opinion Columnists The FT View The Big Read Lex Obituaries Letters Lex Work & Careers Show more Work & Careers Business School Rankings Business Education Europe's Start-Up Hubs Entrepreneurship Recruitment Business Books Business Travel Working It Life & Arts Show more Life & Arts Arts Books Food & Drink FT Magazine House & Home Style Puzzles Travel FT Globetrotter Personal Finance Show more Personal Finance Property & Mortgages Investments Pensions Tax Banking & Savings Advice & Comment Next Act HTSI Special Reports FT recommends Alphaville FT Edit Lunch with the FT FT Globetrotter #techAsia Moral Money Visual and data journalism Newsletters Video Podcasts News feed FT Schools FT Live Events FT Forums Board Director Programme myFT Portfolio FT Digital Edition Crossword Our Apps Help Centre Subscribe Sign In\u001b[00m\n",
            "\u001b[1m\u001b[94m \n",
            "[2025-03-12 01:56:48][🤖 LLM CALL STARTED]: 2025-03-12 01:56:48.300070\u001b[00m\n",
            "\u001b[1m\u001b[94m \n",
            "[2025-03-12 01:56:54][✅ LLM CALL COMPLETED]: 2025-03-12 01:56:54.398799\u001b[00m\n",
            "\u001b[1m\u001b[94m \n",
            "[2025-03-12 01:56:54][🤖 TOOL USAGE STARTED: 'DELEGATE WORK TO COWORKER']: 2025-03-12 01:56:54.400667\u001b[00m\n",
            "Repaired JSON: [{\"task\": \"Gather and analyze historical market data for AAPL\", \"context\": \"I need specific market data and trends for AAPL to identify opportunities or threats. Please analyze the data and provide insights.\", \"coworker\": \"Data Analyst\"}, {\"search_query\": \"AAPL market trends\"}]\n",
            "Repaired JSON: [{\"task\": \"Gather and analyze historical market data for AAPL\", \"context\": \"I need specific market data and trends for AAPL to identify opportunities or threats. Please analyze the data and provide insights.\", \"coworker\": \"Data Analyst\"}, {\"search_query\": \"AAPL market trends\"}]\n",
            "\n",
            "\n",
            "\u001b[1m\u001b[95m# Agent:\u001b[00m \u001b[1m\u001b[92mCrew Manager\u001b[00m\n",
            "\u001b[95m## Thought:\u001b[00m \u001b[92mLog out Navigation Menu HOME WORLD US COMPANIES TECH MARKETS CLIMATE OPINION LEX WORK & CAREERS LIFE & ARTS HTSI ABOUT ADVERTISE WITH US SUPPLIERS LEGAL & PRIVACY © THE FINANCIAL TIMES LTD 2025. FT AND ‘FINANCIAL TIMES’ ARE TRADEMARKS OF THE FINANCIAL TIMES LTD. PRIVACY POLICY COOKIE POLICY TERMS & CONDITIONS SLVERY STATEMENT & POLICIES MENU CLOSE NAVIGATION MENU SHOW ALL SECTIONS WORLD SHOW MORE US SHOW MORE TECH SHOW MORE MARKETS SHOW MORE OPINION SHOW MORE LIFE & ARTS SHOW MORE MYFT US Markets slide as investors worry over US earnings US equities Trump tariffs Trump backs down on 50% steel and aluminium tariffs on Canada U-turn comes after province of Ontario removes surcharge for power exports to the US but 25% levies to still take effect Toyota considers exporting from UK to US to ease impact of Trump tariffs 2 hours ago Europe EU defence High rate of army dropouts pushes German forces to ‘breaking point’ Bundeswehr numbers are shrinking at a time when Berlin is pledging to do more for European defence Von der Leyen says €150bn defence loans should be spent in Europe UK Romania Country Diary. ‘Our farms were famous for almonds; they’re gone now’ Unemployment, drugs and emigration are endemic in a valley in western Romania where agriculture has been abandoned UK Ship’s captain arrested after North Sea collision Reason for crash still unknown after container vessel struck tanker carrying US military fuel Law & order United Nations to call on states to prosecute corporations for human rights violations Tribunal proposes new path for companies accused of crimes after governments repeatedly fail to act 4 hours ago US politics & policy US House passes vote to extend federal funding until end of September Legislation on stop-gap measure now moves to the Senate to avoid a government shutdown 3 hours ago Trump to slash workforce at US education department new Banks and fintechs join ‘stablecoin gold rush’ Rise in digital currencies has triggered a flurry of new projects from established lenders and start-ups 3 hours ago Huge growth potential for Asian stablecoins as regulated 'alternative' to volatile crypto US Foreign policy Pause in Ukraine hostilities gives US time to mend ties with Kiev Kremlin cites Western hesitancy as motive for war, as respite from conflict allows US to assess how to help new US News US energy groups call on Trump to take steadier approach on policy Oil industry has long been target of US president’s disruptive impulses but he has more to lose now that Republicans control the House of Representatives 1 hour ago AI Interview. Putin’s internet guru wants to create a Russian Google The founder of Yandex has plans for a wide-ranging tech firm — and has ideas on how to counter the dominance of US tech giants 52 hours ago UK News New generation of royals threatens to weaken the monarchy King Charles will find himself on the backfoot as Harry, Meghan and Andrew push their own agenda 39 hours ago News in focus. Ocasio-Cortez’s bill demands action on climate change New legislation unveiled by US representative seeks to reduce emissions by 40% from 2005 levels by 2030 24 hours ago News in focus. US carmakers ready for electric revolution New Generation of electric cars by US carmakers aims to revive companies’ poor performance 30 hours ago AI Tech Tonic podcast Is AI the third mode of computation? How to effectively use AI techniques to solve complex problems 48 hours ago Artificial intelligence AI has a long history of bias. Here’s how it can be fixed New machine learning models can overcome prejudices, but only if we acknowledge how and where bias exists 10 hours ago More US News From the web The future for US corporations US politics & policy US foreign policy US Companies US equities Best of the week in US news The best US news from the FT, hand-picked by our US team US Newsletter (free) from the FT Our editors choice (free) The best of the FT delivered to your inbox every Monday to Friday Best of the week (free) Our top stories, selected by our editors A World in a Changing America US news weekly newsletter (free) Stay up to speed on the biggest stories shaping the US. Our highly curated newsletter delivers the week’s major US news, global context and trends shaping the US and the world The US weekly newsletter (free) A round-up of must-read stories from the FT’s US edition sent directly to your inbox each week 1 pm BST on Wednesday Pounds and penalties: consequences of foreign exchange misconduct (free) From fraud to manipulation, the fallout from currency trading misconduct can be costly for companies but can it ever be prevented? 12 pm BST on Monday, 6 March Navigating today’s changing world (free) The FT and Deloitte’s Navigators podcast series explores the global themes driving change Find out more US policy weekly newsletter (free) Essential analysis of the government’s plans and policies for the US economy US politics & policy (free) US policy news and analysis. Understand the impact of the latest decision-making in Washington. US policy weekly newsletter (free) Stay up to date with the latest US policy developments and analysis US foreign policy (free) US foreign policy news and analysis. Understand the impact of the latest diplomatic developments to the US. US foreign policy (free) US foreign policy news and analysis. Stay up to date with the latest diplomatic developments to the US Moral Money (free) An essential newsletter for the ESG generation. The latest news and insight from the intersection of finance and sustainability in one place 10 pm BST on Tuesday Personal Technology (free) From smartphones to innovation and virtual reality, the FT’s personal technology column brings the latest news and commentary to life 2 pm BST on Wednesday US Weekly (free) A letter from our New York newsroom highlighting the biggest and most important stories of the week US Newsletter (free) from the FT Stay ahead of the biggest stories in the US and the world US politics and policy (free) Focusing on the biggest themes driving US politics and policy US politics and policy weekly (free) Stay ahead of the biggest stories in US politics and policy US foreign policy (free) Get the most important stories regarding US foreign policy, straight to your inbox the moment they happen Corporate Investigations (free) Every week, dive into the business stories making the headlines Financial Crime Weekly Digest (free) The essential weekly round-up of the most important news in business crime Investigations from the FT's award-winning journalism Special Reports (free) FT Special Reports In-depth insights and analysis on the topics that matter most to the financial markets Research (free) FT Research FT Research provides customised and off-the-shelf research to clients ranging from top global banks to leading hedge funds and family offices Learn more Staying Ahead (free) A concise, must-read round-up of the global economy, every business day United Kingdom US Companies US Equities Regulators approve Moynihan’s deal for First Citizens Bank Lenders expect to begin integration process by the end of the year, after months of speculation 4 hours ago Bank of Japan Strong January pay data keeps Bank of Japan on course to increase rates Earnings at companies that belong to the Nikkei 225 rose 1.5 per cent in the first month of 2023 10 hours ago India Oil and gas group Adani to invest $1bn in green hydrogen projects India’s biggest player is planning to develop hydrogen plants in four states this year 11 hours ago Bank of Israel Currency interventions mask Israel’s inflation problem Strong shekel undermining central bank battle against pricing pressures 12 hours ago Russia’s Man of War Viktor Bout — the arms-dealing story of Russia's notorious ‘Merchant of Death’ The trial of the man once described as the 'most dangerous arms dealer in the world' will reopen in March 15 hours ago US Chinese state-owned group to inject $1bn into CBA The state-owned China Investment Corporation is to invest in Commonwealth Bank of Australia's wealth management unit 15 hours ago More Markets News Alphaville Markets Data Capital Markets Commodities Currencies Equities Fund Management Wealth Management Moral Money ETF Hub Trading European stocks close lower on US inflation fears European equities dropped on US inflation fears, while US equities rose modestly amid US Treasury bond rout World’s richest fail to halt momentum of ESG investing ESG investing has posted another year of rapid growth as the wealthy invest through their advisors 6 hours ago Cryptocurrencies Bitcoin and other cryptocurrencies are in a ‘crypto winter’ but not Bitcoin's fault, says Polychain CEO One-third of Polychain’s investment portfolio allocated to cryptocurrencies and blockchain networks 4 hours ago Technology AI How driverless truck companies can make USD2tr of profits A new report by ARK Invest explores how driverless truck companies can create a trillion-dollar market opportunity 24 hours ago Social Media Bytedance seeks funding at up to $140bn valuation Bytedance has held out against US pressure to spin off the video-sharing app TikTok, despite $4bn fine 22 hours ago Semiconductors Cyber Security Automakers shift to silicon cybersecurity, but US lawmakers are blocking progress US carmakers have turned to chips to fight cyber attacks but US politicians have restrained their rollout 16 hours ago Business News Business News (free) A guide to the biggest stories impacting business around the world Business News (free) Track all the biggest business news, covering the companies and sectors shaping the global economy Business School Rankings Business School Rankings (free) Which business schools offer the best degrees? Our annual ranking highlights the world’s best institutions 2 days ago Companies News Companies News (free) The latest from FT’s global business editorial team Companies News (free) Stay ahead of the curve with the most important business news and analysis, from economics to markets Companies Artificial intelligence Explainer. From hover points to trampoline packaging: how Amazon is aiming to deliver by drone The ecommerce giant just took the next step towards delivering packages by drone with its new hovering packing stations 12 hours ago Energy News Energy News (free) ESG isn't the sole solution for US energy insecurity Green investments can be a part of the solution to climate change and energy insecurity 13 hours ago Cyber Security News Cyber Security News (free) How to defend against the ‘dark side’ of Metaverse as cyber threats loom Metaverse might unlock creative potential and economic growth but can also give rise to cyber threats 16 hours ago Autos News Autos News (free) Tesla CEO Elon Musk denies claims of cyber attack on social network X Chinese cyber security firm asked if it was involved in X’s hacking but Musk’s ‘Ukraine area’ statement has raised eyebrows 24 hours ago Food & Beverage News Food & Beverage News (free) Europe’s agricultural giants hold the cards in Ukraine and Moldova Germany’s Agrofert and Moldova’s Dintr-un Suflet companies are jostling for power in war-torn region 11 hours ago Health News Health News (free) Health data should be shared with regulator — top UK GPs advise regulators will get more from working with industry, not being adversaries 17 hours ago Health News Health News (free) As US companies cut more jobs, new data on ‘gig economy’ paints grim picture Gig labour rises but often leads to low pay and no benefits 1 day ago Telecommunications News Telecommunications News (free) AT&T-Discovery standoff ends with spin off of CNN Discovery to sell off CNN in deal that lets AT&T pare down unit it bought for $85bn 24 hours ago\n",
            "Thought: This website content provides an overview of the current situation of AAPL from a financial perspective. It includes a mix of news articles and analysis about the company. However, it does not provide specific market data or trends that I need to identify opportunities or threats for AAPL. Therefore, I will delegate a task to the Data Analyst to gather and analyze historical market data for AAPL.\u001b[00m\n",
            "\u001b[95m## Using tool:\u001b[00m \u001b[92mDelegate work to coworker\u001b[00m\n",
            "\u001b[95m## Tool Input:\u001b[00m \u001b[92m\n",
            "\"[{\\\"task\\\": \\\"Gather and analyze historical market data for AAPL\\\", \\\"context\\\": \\\"I need specific market data and trends for AAPL to identify opportunities or threats. Please analyze the data and provide insights.\\\", \\\"coworker\\\": \\\"Data Analyst\\\"}, {\\\"search_query\\\": \\\"AAPL market trends\\\"}]\"\u001b[00m\n",
            "\u001b[95m## Tool Output:\u001b[00m \u001b[92m\n",
            "Error: the Action Input is not a valid key, value dictionary.\u001b[00m\n",
            "\u001b[1m\u001b[94m \n",
            "[2025-03-12 01:56:54][🤖 LLM CALL STARTED]: 2025-03-12 01:56:54.412002\u001b[00m\n"
          ]
        },
        {
          "output_type": "stream",
          "name": "stderr",
          "text": [
            "ERROR:root:LiteLLM call failed: litellm.RateLimitError: RateLimitError: GroqException - {\"error\":{\"message\":\"Request too large for model `mixtral-8x7b-32768` in organization `org_01jp410k5keg580gff4q5h8a22` service tier `on_demand` on tokens per minute (TPM): Limit 5000, Requested 7954, please reduce your message size and try again. Visit https://console.groq.com/docs/rate-limits for more information.\",\"type\":\"tokens\",\"code\":\"rate_limit_exceeded\"}}\n",
            "\n"
          ]
        },
        {
          "output_type": "stream",
          "name": "stdout",
          "text": [
            "\n",
            "\n",
            "LiteLLM.Info: If you need to debug this error, use `litellm._turn_on_debug()'.\n",
            "\n",
            "\n",
            "\u001b[1;31mProvider List: https://docs.litellm.ai/docs/providers\u001b[0m\n",
            "\n",
            "\u001b[1m\u001b[94m \n",
            "[2025-03-12 01:56:54][❌ LLM CALL FAILED: 'LITELLM.RATELIMITERROR: RATELIMITERROR: GROQEXCEPTION - {\"ERROR\":{\"MESSAGE\":\"REQUEST TOO LARGE FOR MODEL `MIXTRAL-8X7B-32768` IN ORGANIZATION `ORG_01JP410K5KEG580GFF4Q5H8A22` SERVICE TIER `ON_DEMAND` ON TOKENS PER MINUTE (TPM): LIMIT 5000, REQUESTED 7954, PLEASE REDUCE YOUR MESSAGE SIZE AND TRY AGAIN. VISIT HTTPS://CONSOLE.GROQ.COM/DOCS/RATE-LIMITS FOR MORE INFORMATION.\",\"TYPE\":\"TOKENS\",\"CODE\":\"RATE_LIMIT_EXCEEDED\"}}\n",
            "']: 2025-03-12 01:56:54.672779\u001b[00m\n",
            "\u001b[91m Error during LLM call: litellm.RateLimitError: RateLimitError: GroqException - {\"error\":{\"message\":\"Request too large for model `mixtral-8x7b-32768` in organization `org_01jp410k5keg580gff4q5h8a22` service tier `on_demand` on tokens per minute (TPM): Limit 5000, Requested 7954, please reduce your message size and try again. Visit https://console.groq.com/docs/rate-limits for more information.\",\"type\":\"tokens\",\"code\":\"rate_limit_exceeded\"}}\n",
            "\u001b[00m\n",
            "\u001b[91m An unknown error occurred. Please check the details below.\u001b[00m\n",
            "\u001b[91m Error details: litellm.RateLimitError: RateLimitError: GroqException - {\"error\":{\"message\":\"Request too large for model `mixtral-8x7b-32768` in organization `org_01jp410k5keg580gff4q5h8a22` service tier `on_demand` on tokens per minute (TPM): Limit 5000, Requested 7954, please reduce your message size and try again. Visit https://console.groq.com/docs/rate-limits for more information.\",\"type\":\"tokens\",\"code\":\"rate_limit_exceeded\"}}\n",
            "\u001b[00m\n",
            "\u001b[1m\u001b[94m \n",
            "[2025-03-12 01:56:54][❌ TASK FAILED: CONTINUOUSLY MONITOR AND ANALYZE MARKET DATA FOR THE SELECTED STOCK (AAPL). USE STATISTICAL MODELING AND MACHINE LEARNING TO IDENTIFY TRENDS AND PREDICT MARKET MOVEMENTS.]: 2025-03-12 01:56:54.674027\u001b[00m\n",
            "\u001b[1m\u001b[94m \n",
            "[2025-03-12 01:56:54][❌ CREW 'CREW' FAILED, DD725C56-24AE-49AA-9C7F-EB68033E3019]: 2025-03-12 01:56:54.674126\u001b[00m\n"
          ]
        },
        {
          "output_type": "error",
          "ename": "RateLimitError",
          "evalue": "litellm.RateLimitError: RateLimitError: GroqException - {\"error\":{\"message\":\"Request too large for model `mixtral-8x7b-32768` in organization `org_01jp410k5keg580gff4q5h8a22` service tier `on_demand` on tokens per minute (TPM): Limit 5000, Requested 7954, please reduce your message size and try again. Visit https://console.groq.com/docs/rate-limits for more information.\",\"type\":\"tokens\",\"code\":\"rate_limit_exceeded\"}}\n",
          "traceback": [
            "\u001b[0;31m---------------------------------------------------------------------------\u001b[0m",
            "\u001b[0;31mHTTPStatusError\u001b[0m                           Traceback (most recent call last)",
            "\u001b[0;32m/usr/local/lib/python3.11/dist-packages/litellm/llms/openai_like/chat/handler.py\u001b[0m in \u001b[0;36mcompletion\u001b[0;34m(self, model, messages, api_base, custom_llm_provider, custom_prompt_dict, model_response, print_verbose, encoding, api_key, logging_obj, optional_params, acompletion, litellm_params, logger_fn, headers, timeout, client, custom_endpoint, streaming_decoder, fake_stream)\u001b[0m\n\u001b[1;32m    371\u001b[0m                 \u001b[0;32mtry\u001b[0m\u001b[0;34m:\u001b[0m\u001b[0;34m\u001b[0m\u001b[0;34m\u001b[0m\u001b[0m\n\u001b[0;32m--> 372\u001b[0;31m                     response = client.post(\n\u001b[0m\u001b[1;32m    373\u001b[0m                         \u001b[0murl\u001b[0m\u001b[0;34m=\u001b[0m\u001b[0mapi_base\u001b[0m\u001b[0;34m,\u001b[0m \u001b[0mheaders\u001b[0m\u001b[0;34m=\u001b[0m\u001b[0mheaders\u001b[0m\u001b[0;34m,\u001b[0m \u001b[0mdata\u001b[0m\u001b[0;34m=\u001b[0m\u001b[0mjson\u001b[0m\u001b[0;34m.\u001b[0m\u001b[0mdumps\u001b[0m\u001b[0;34m(\u001b[0m\u001b[0mdata\u001b[0m\u001b[0;34m)\u001b[0m\u001b[0;34m\u001b[0m\u001b[0;34m\u001b[0m\u001b[0m\n",
            "\u001b[0;32m/usr/local/lib/python3.11/dist-packages/litellm/llms/custom_httpx/http_handler.py\u001b[0m in \u001b[0;36mpost\u001b[0;34m(self, url, data, json, params, headers, stream, timeout, files, content, logging_obj)\u001b[0m\n\u001b[1;32m    552\u001b[0m \u001b[0;34m\u001b[0m\u001b[0m\n\u001b[0;32m--> 553\u001b[0;31m             \u001b[0;32mraise\u001b[0m \u001b[0me\u001b[0m\u001b[0;34m\u001b[0m\u001b[0;34m\u001b[0m\u001b[0m\n\u001b[0m\u001b[1;32m    554\u001b[0m         \u001b[0;32mexcept\u001b[0m \u001b[0mException\u001b[0m \u001b[0;32mas\u001b[0m \u001b[0me\u001b[0m\u001b[0;34m:\u001b[0m\u001b[0;34m\u001b[0m\u001b[0;34m\u001b[0m\u001b[0m\n",
            "\u001b[0;32m/usr/local/lib/python3.11/dist-packages/litellm/llms/custom_httpx/http_handler.py\u001b[0m in \u001b[0;36mpost\u001b[0;34m(self, url, data, json, params, headers, stream, timeout, files, content, logging_obj)\u001b[0m\n\u001b[1;32m    533\u001b[0m             \u001b[0mresponse\u001b[0m \u001b[0;34m=\u001b[0m \u001b[0mself\u001b[0m\u001b[0;34m.\u001b[0m\u001b[0mclient\u001b[0m\u001b[0;34m.\u001b[0m\u001b[0msend\u001b[0m\u001b[0;34m(\u001b[0m\u001b[0mreq\u001b[0m\u001b[0;34m,\u001b[0m \u001b[0mstream\u001b[0m\u001b[0;34m=\u001b[0m\u001b[0mstream\u001b[0m\u001b[0;34m)\u001b[0m\u001b[0;34m\u001b[0m\u001b[0;34m\u001b[0m\u001b[0m\n\u001b[0;32m--> 534\u001b[0;31m             \u001b[0mresponse\u001b[0m\u001b[0;34m.\u001b[0m\u001b[0mraise_for_status\u001b[0m\u001b[0;34m(\u001b[0m\u001b[0;34m)\u001b[0m\u001b[0;34m\u001b[0m\u001b[0;34m\u001b[0m\u001b[0m\n\u001b[0m\u001b[1;32m    535\u001b[0m             \u001b[0;32mreturn\u001b[0m \u001b[0mresponse\u001b[0m\u001b[0;34m\u001b[0m\u001b[0;34m\u001b[0m\u001b[0m\n",
            "\u001b[0;32m/usr/local/lib/python3.11/dist-packages/httpx/_models.py\u001b[0m in \u001b[0;36mraise_for_status\u001b[0;34m(self)\u001b[0m\n\u001b[1;32m    762\u001b[0m         \u001b[0mmessage\u001b[0m \u001b[0;34m=\u001b[0m \u001b[0mmessage\u001b[0m\u001b[0;34m.\u001b[0m\u001b[0mformat\u001b[0m\u001b[0;34m(\u001b[0m\u001b[0mself\u001b[0m\u001b[0;34m,\u001b[0m \u001b[0merror_type\u001b[0m\u001b[0;34m=\u001b[0m\u001b[0merror_type\u001b[0m\u001b[0;34m)\u001b[0m\u001b[0;34m\u001b[0m\u001b[0;34m\u001b[0m\u001b[0m\n\u001b[0;32m--> 763\u001b[0;31m         \u001b[0;32mraise\u001b[0m \u001b[0mHTTPStatusError\u001b[0m\u001b[0;34m(\u001b[0m\u001b[0mmessage\u001b[0m\u001b[0;34m,\u001b[0m \u001b[0mrequest\u001b[0m\u001b[0;34m=\u001b[0m\u001b[0mrequest\u001b[0m\u001b[0;34m,\u001b[0m \u001b[0mresponse\u001b[0m\u001b[0;34m=\u001b[0m\u001b[0mself\u001b[0m\u001b[0;34m)\u001b[0m\u001b[0;34m\u001b[0m\u001b[0;34m\u001b[0m\u001b[0m\n\u001b[0m\u001b[1;32m    764\u001b[0m \u001b[0;34m\u001b[0m\u001b[0m\n",
            "\u001b[0;31mHTTPStatusError\u001b[0m: Client error '413 Payload Too Large' for url 'https://api.groq.com/openai/v1/chat/completions'\nFor more information check: https://developer.mozilla.org/en-US/docs/Web/HTTP/Status/413",
            "\nDuring handling of the above exception, another exception occurred:\n",
            "\u001b[0;31mOpenAILikeError\u001b[0m                           Traceback (most recent call last)",
            "\u001b[0;32m/usr/local/lib/python3.11/dist-packages/litellm/main.py\u001b[0m in \u001b[0;36mcompletion\u001b[0;34m(model, messages, timeout, temperature, top_p, n, stream, stream_options, stop, max_completion_tokens, max_tokens, modalities, prediction, audio, presence_penalty, frequency_penalty, logit_bias, user, reasoning_effort, response_format, seed, tools, tool_choice, logprobs, top_logprobs, parallel_tool_calls, deployment_id, extra_headers, functions, function_call, base_url, api_version, api_key, model_list, **kwargs)\u001b[0m\n\u001b[1;32m   1548\u001b[0m \u001b[0;34m\u001b[0m\u001b[0m\n\u001b[0;32m-> 1549\u001b[0;31m             response = groq_chat_completions.completion(\n\u001b[0m\u001b[1;32m   1550\u001b[0m                 \u001b[0mmodel\u001b[0m\u001b[0;34m=\u001b[0m\u001b[0mmodel\u001b[0m\u001b[0;34m,\u001b[0m\u001b[0;34m\u001b[0m\u001b[0;34m\u001b[0m\u001b[0m\n",
            "\u001b[0;32m/usr/local/lib/python3.11/dist-packages/litellm/llms/groq/chat/handler.py\u001b[0m in \u001b[0;36mcompletion\u001b[0;34m(self, model, messages, api_base, custom_llm_provider, custom_prompt_dict, model_response, print_verbose, encoding, api_key, logging_obj, optional_params, acompletion, litellm_params, logger_fn, headers, timeout, client, custom_endpoint, streaming_decoder, fake_stream)\u001b[0m\n\u001b[1;32m     54\u001b[0m \u001b[0;34m\u001b[0m\u001b[0m\n\u001b[0;32m---> 55\u001b[0;31m         return super().completion(\n\u001b[0m\u001b[1;32m     56\u001b[0m             \u001b[0mmodel\u001b[0m\u001b[0;34m=\u001b[0m\u001b[0mmodel\u001b[0m\u001b[0;34m,\u001b[0m\u001b[0;34m\u001b[0m\u001b[0;34m\u001b[0m\u001b[0m\n",
            "\u001b[0;32m/usr/local/lib/python3.11/dist-packages/litellm/llms/openai_like/chat/handler.py\u001b[0m in \u001b[0;36mcompletion\u001b[0;34m(self, model, messages, api_base, custom_llm_provider, custom_prompt_dict, model_response, print_verbose, encoding, api_key, logging_obj, optional_params, acompletion, litellm_params, logger_fn, headers, timeout, client, custom_endpoint, streaming_decoder, fake_stream)\u001b[0m\n\u001b[1;32m    377\u001b[0m                 \u001b[0;32mexcept\u001b[0m \u001b[0mhttpx\u001b[0m\u001b[0;34m.\u001b[0m\u001b[0mHTTPStatusError\u001b[0m \u001b[0;32mas\u001b[0m \u001b[0me\u001b[0m\u001b[0;34m:\u001b[0m\u001b[0;34m\u001b[0m\u001b[0;34m\u001b[0m\u001b[0m\n\u001b[0;32m--> 378\u001b[0;31m                     raise OpenAILikeError(\n\u001b[0m\u001b[1;32m    379\u001b[0m                         \u001b[0mstatus_code\u001b[0m\u001b[0;34m=\u001b[0m\u001b[0me\u001b[0m\u001b[0;34m.\u001b[0m\u001b[0mresponse\u001b[0m\u001b[0;34m.\u001b[0m\u001b[0mstatus_code\u001b[0m\u001b[0;34m,\u001b[0m\u001b[0;34m\u001b[0m\u001b[0;34m\u001b[0m\u001b[0m\n",
            "\u001b[0;31mOpenAILikeError\u001b[0m: {\"error\":{\"message\":\"Request too large for model `mixtral-8x7b-32768` in organization `org_01jp410k5keg580gff4q5h8a22` service tier `on_demand` on tokens per minute (TPM): Limit 5000, Requested 7954, please reduce your message size and try again. Visit https://console.groq.com/docs/rate-limits for more information.\",\"type\":\"tokens\",\"code\":\"rate_limit_exceeded\"}}\n",
            "\nDuring handling of the above exception, another exception occurred:\n",
            "\u001b[0;31mRateLimitError\u001b[0m                            Traceback (most recent call last)",
            "\u001b[0;32m<ipython-input-17-d7bc686d1874>\u001b[0m in \u001b[0;36m<cell line: 0>\u001b[0;34m()\u001b[0m\n\u001b[1;32m      1\u001b[0m \u001b[0;31m### this execution will take some time to run\u001b[0m\u001b[0;34m\u001b[0m\u001b[0;34m\u001b[0m\u001b[0m\n\u001b[0;32m----> 2\u001b[0;31m \u001b[0mresult\u001b[0m \u001b[0;34m=\u001b[0m \u001b[0mfinancial_trading_crew\u001b[0m\u001b[0;34m.\u001b[0m\u001b[0mkickoff\u001b[0m\u001b[0;34m(\u001b[0m\u001b[0minputs\u001b[0m\u001b[0;34m=\u001b[0m\u001b[0mfinancial_trading_inputs\u001b[0m\u001b[0;34m)\u001b[0m\u001b[0;34m\u001b[0m\u001b[0;34m\u001b[0m\u001b[0m\n\u001b[0m",
            "\u001b[0;32m/usr/local/lib/python3.11/dist-packages/crewai/crew.py\u001b[0m in \u001b[0;36mkickoff\u001b[0;34m(self, inputs)\u001b[0m\n\u001b[1;32m    619\u001b[0m                 \u001b[0mresult\u001b[0m \u001b[0;34m=\u001b[0m \u001b[0mself\u001b[0m\u001b[0;34m.\u001b[0m\u001b[0m_run_sequential_process\u001b[0m\u001b[0;34m(\u001b[0m\u001b[0;34m)\u001b[0m\u001b[0;34m\u001b[0m\u001b[0;34m\u001b[0m\u001b[0m\n\u001b[1;32m    620\u001b[0m             \u001b[0;32melif\u001b[0m \u001b[0mself\u001b[0m\u001b[0;34m.\u001b[0m\u001b[0mprocess\u001b[0m \u001b[0;34m==\u001b[0m \u001b[0mProcess\u001b[0m\u001b[0;34m.\u001b[0m\u001b[0mhierarchical\u001b[0m\u001b[0;34m:\u001b[0m\u001b[0;34m\u001b[0m\u001b[0;34m\u001b[0m\u001b[0m\n\u001b[0;32m--> 621\u001b[0;31m                 \u001b[0mresult\u001b[0m \u001b[0;34m=\u001b[0m \u001b[0mself\u001b[0m\u001b[0;34m.\u001b[0m\u001b[0m_run_hierarchical_process\u001b[0m\u001b[0;34m(\u001b[0m\u001b[0;34m)\u001b[0m\u001b[0;34m\u001b[0m\u001b[0;34m\u001b[0m\u001b[0m\n\u001b[0m\u001b[1;32m    622\u001b[0m             \u001b[0;32melse\u001b[0m\u001b[0;34m:\u001b[0m\u001b[0;34m\u001b[0m\u001b[0;34m\u001b[0m\u001b[0m\n\u001b[1;32m    623\u001b[0m                 raise NotImplementedError(\n",
            "\u001b[0;32m/usr/local/lib/python3.11/dist-packages/crewai/crew.py\u001b[0m in \u001b[0;36m_run_hierarchical_process\u001b[0;34m(self)\u001b[0m\n\u001b[1;32m    734\u001b[0m         \u001b[0;34m\"\"\"Creates and assigns a manager agent to make sure the crew completes the tasks.\"\"\"\u001b[0m\u001b[0;34m\u001b[0m\u001b[0;34m\u001b[0m\u001b[0m\n\u001b[1;32m    735\u001b[0m         \u001b[0mself\u001b[0m\u001b[0;34m.\u001b[0m\u001b[0m_create_manager_agent\u001b[0m\u001b[0;34m(\u001b[0m\u001b[0;34m)\u001b[0m\u001b[0;34m\u001b[0m\u001b[0;34m\u001b[0m\u001b[0m\n\u001b[0;32m--> 736\u001b[0;31m         \u001b[0;32mreturn\u001b[0m \u001b[0mself\u001b[0m\u001b[0;34m.\u001b[0m\u001b[0m_execute_tasks\u001b[0m\u001b[0;34m(\u001b[0m\u001b[0mself\u001b[0m\u001b[0;34m.\u001b[0m\u001b[0mtasks\u001b[0m\u001b[0;34m)\u001b[0m\u001b[0;34m\u001b[0m\u001b[0;34m\u001b[0m\u001b[0m\n\u001b[0m\u001b[1;32m    737\u001b[0m \u001b[0;34m\u001b[0m\u001b[0m\n\u001b[1;32m    738\u001b[0m     \u001b[0;32mdef\u001b[0m \u001b[0m_create_manager_agent\u001b[0m\u001b[0;34m(\u001b[0m\u001b[0mself\u001b[0m\u001b[0;34m)\u001b[0m\u001b[0;34m:\u001b[0m\u001b[0;34m\u001b[0m\u001b[0;34m\u001b[0m\u001b[0m\n",
            "\u001b[0;32m/usr/local/lib/python3.11/dist-packages/crewai/crew.py\u001b[0m in \u001b[0;36m_execute_tasks\u001b[0;34m(self, tasks, start_index, was_replayed)\u001b[0m\n\u001b[1;32m    827\u001b[0m \u001b[0;34m\u001b[0m\u001b[0m\n\u001b[1;32m    828\u001b[0m                 \u001b[0mcontext\u001b[0m \u001b[0;34m=\u001b[0m \u001b[0mself\u001b[0m\u001b[0;34m.\u001b[0m\u001b[0m_get_context\u001b[0m\u001b[0;34m(\u001b[0m\u001b[0mtask\u001b[0m\u001b[0;34m,\u001b[0m \u001b[0mtask_outputs\u001b[0m\u001b[0;34m)\u001b[0m\u001b[0;34m\u001b[0m\u001b[0;34m\u001b[0m\u001b[0m\n\u001b[0;32m--> 829\u001b[0;31m                 task_output = task.execute_sync(\n\u001b[0m\u001b[1;32m    830\u001b[0m                     \u001b[0magent\u001b[0m\u001b[0;34m=\u001b[0m\u001b[0magent_to_use\u001b[0m\u001b[0;34m,\u001b[0m\u001b[0;34m\u001b[0m\u001b[0;34m\u001b[0m\u001b[0m\n\u001b[1;32m    831\u001b[0m                     \u001b[0mcontext\u001b[0m\u001b[0;34m=\u001b[0m\u001b[0mcontext\u001b[0m\u001b[0;34m,\u001b[0m\u001b[0;34m\u001b[0m\u001b[0;34m\u001b[0m\u001b[0m\n",
            "\u001b[0;32m/usr/local/lib/python3.11/dist-packages/crewai/task.py\u001b[0m in \u001b[0;36mexecute_sync\u001b[0;34m(self, agent, context, tools)\u001b[0m\n\u001b[1;32m    302\u001b[0m     ) -> TaskOutput:\n\u001b[1;32m    303\u001b[0m         \u001b[0;34m\"\"\"Execute the task synchronously.\"\"\"\u001b[0m\u001b[0;34m\u001b[0m\u001b[0;34m\u001b[0m\u001b[0m\n\u001b[0;32m--> 304\u001b[0;31m         \u001b[0;32mreturn\u001b[0m \u001b[0mself\u001b[0m\u001b[0;34m.\u001b[0m\u001b[0m_execute_core\u001b[0m\u001b[0;34m(\u001b[0m\u001b[0magent\u001b[0m\u001b[0;34m,\u001b[0m \u001b[0mcontext\u001b[0m\u001b[0;34m,\u001b[0m \u001b[0mtools\u001b[0m\u001b[0;34m)\u001b[0m\u001b[0;34m\u001b[0m\u001b[0;34m\u001b[0m\u001b[0m\n\u001b[0m\u001b[1;32m    305\u001b[0m \u001b[0;34m\u001b[0m\u001b[0m\n\u001b[1;32m    306\u001b[0m     \u001b[0;34m@\u001b[0m\u001b[0mproperty\u001b[0m\u001b[0;34m\u001b[0m\u001b[0;34m\u001b[0m\u001b[0m\n",
            "\u001b[0;32m/usr/local/lib/python3.11/dist-packages/crewai/task.py\u001b[0m in \u001b[0;36m_execute_core\u001b[0;34m(self, agent, context, tools)\u001b[0m\n\u001b[1;32m    446\u001b[0m             \u001b[0mself\u001b[0m\u001b[0;34m.\u001b[0m\u001b[0mend_time\u001b[0m \u001b[0;34m=\u001b[0m \u001b[0mdatetime\u001b[0m\u001b[0;34m.\u001b[0m\u001b[0mdatetime\u001b[0m\u001b[0;34m.\u001b[0m\u001b[0mnow\u001b[0m\u001b[0;34m(\u001b[0m\u001b[0;34m)\u001b[0m\u001b[0;34m\u001b[0m\u001b[0;34m\u001b[0m\u001b[0m\n\u001b[1;32m    447\u001b[0m             \u001b[0mcrewai_event_bus\u001b[0m\u001b[0;34m.\u001b[0m\u001b[0memit\u001b[0m\u001b[0;34m(\u001b[0m\u001b[0mself\u001b[0m\u001b[0;34m,\u001b[0m \u001b[0mTaskFailedEvent\u001b[0m\u001b[0;34m(\u001b[0m\u001b[0merror\u001b[0m\u001b[0;34m=\u001b[0m\u001b[0mstr\u001b[0m\u001b[0;34m(\u001b[0m\u001b[0me\u001b[0m\u001b[0;34m)\u001b[0m\u001b[0;34m)\u001b[0m\u001b[0;34m)\u001b[0m\u001b[0;34m\u001b[0m\u001b[0;34m\u001b[0m\u001b[0m\n\u001b[0;32m--> 448\u001b[0;31m             \u001b[0;32mraise\u001b[0m \u001b[0me\u001b[0m  \u001b[0;31m# Re-raise the exception after emitting the event\u001b[0m\u001b[0;34m\u001b[0m\u001b[0;34m\u001b[0m\u001b[0m\n\u001b[0m\u001b[1;32m    449\u001b[0m \u001b[0;34m\u001b[0m\u001b[0m\n\u001b[1;32m    450\u001b[0m     \u001b[0;32mdef\u001b[0m \u001b[0mprompt\u001b[0m\u001b[0;34m(\u001b[0m\u001b[0mself\u001b[0m\u001b[0;34m)\u001b[0m \u001b[0;34m->\u001b[0m \u001b[0mstr\u001b[0m\u001b[0;34m:\u001b[0m\u001b[0;34m\u001b[0m\u001b[0;34m\u001b[0m\u001b[0m\n",
            "\u001b[0;32m/usr/local/lib/python3.11/dist-packages/crewai/task.py\u001b[0m in \u001b[0;36m_execute_core\u001b[0;34m(self, agent, context, tools)\u001b[0m\n\u001b[1;32m    366\u001b[0m             \u001b[0mself\u001b[0m\u001b[0;34m.\u001b[0m\u001b[0mprocessed_by_agents\u001b[0m\u001b[0;34m.\u001b[0m\u001b[0madd\u001b[0m\u001b[0;34m(\u001b[0m\u001b[0magent\u001b[0m\u001b[0;34m.\u001b[0m\u001b[0mrole\u001b[0m\u001b[0;34m)\u001b[0m\u001b[0;34m\u001b[0m\u001b[0;34m\u001b[0m\u001b[0m\n\u001b[1;32m    367\u001b[0m             \u001b[0mcrewai_event_bus\u001b[0m\u001b[0;34m.\u001b[0m\u001b[0memit\u001b[0m\u001b[0;34m(\u001b[0m\u001b[0mself\u001b[0m\u001b[0;34m,\u001b[0m \u001b[0mTaskStartedEvent\u001b[0m\u001b[0;34m(\u001b[0m\u001b[0mcontext\u001b[0m\u001b[0;34m=\u001b[0m\u001b[0mcontext\u001b[0m\u001b[0;34m)\u001b[0m\u001b[0;34m)\u001b[0m\u001b[0;34m\u001b[0m\u001b[0;34m\u001b[0m\u001b[0m\n\u001b[0;32m--> 368\u001b[0;31m             result = agent.execute_task(\n\u001b[0m\u001b[1;32m    369\u001b[0m                 \u001b[0mtask\u001b[0m\u001b[0;34m=\u001b[0m\u001b[0mself\u001b[0m\u001b[0;34m,\u001b[0m\u001b[0;34m\u001b[0m\u001b[0;34m\u001b[0m\u001b[0m\n\u001b[1;32m    370\u001b[0m                 \u001b[0mcontext\u001b[0m\u001b[0;34m=\u001b[0m\u001b[0mcontext\u001b[0m\u001b[0;34m,\u001b[0m\u001b[0;34m\u001b[0m\u001b[0;34m\u001b[0m\u001b[0m\n",
            "\u001b[0;32m/usr/local/lib/python3.11/dist-packages/crewai/agent.py\u001b[0m in \u001b[0;36mexecute_task\u001b[0;34m(self, task, context, tools)\u001b[0m\n\u001b[1;32m    263\u001b[0m                     ),\n\u001b[1;32m    264\u001b[0m                 )\n\u001b[0;32m--> 265\u001b[0;31m                 \u001b[0;32mraise\u001b[0m \u001b[0me\u001b[0m\u001b[0;34m\u001b[0m\u001b[0;34m\u001b[0m\u001b[0m\n\u001b[0m\u001b[1;32m    266\u001b[0m             \u001b[0mself\u001b[0m\u001b[0;34m.\u001b[0m\u001b[0m_times_executed\u001b[0m \u001b[0;34m+=\u001b[0m \u001b[0;36m1\u001b[0m\u001b[0;34m\u001b[0m\u001b[0;34m\u001b[0m\u001b[0m\n\u001b[1;32m    267\u001b[0m             \u001b[0;32mif\u001b[0m \u001b[0mself\u001b[0m\u001b[0;34m.\u001b[0m\u001b[0m_times_executed\u001b[0m \u001b[0;34m>\u001b[0m \u001b[0mself\u001b[0m\u001b[0;34m.\u001b[0m\u001b[0mmax_retry_limit\u001b[0m\u001b[0;34m:\u001b[0m\u001b[0;34m\u001b[0m\u001b[0;34m\u001b[0m\u001b[0m\n",
            "\u001b[0;32m/usr/local/lib/python3.11/dist-packages/crewai/agent.py\u001b[0m in \u001b[0;36mexecute_task\u001b[0;34m(self, task, context, tools)\u001b[0m\n\u001b[1;32m    244\u001b[0m                 ),\n\u001b[1;32m    245\u001b[0m             )\n\u001b[0;32m--> 246\u001b[0;31m             result = self.agent_executor.invoke(\n\u001b[0m\u001b[1;32m    247\u001b[0m                 {\n\u001b[1;32m    248\u001b[0m                     \u001b[0;34m\"input\"\u001b[0m\u001b[0;34m:\u001b[0m \u001b[0mtask_prompt\u001b[0m\u001b[0;34m,\u001b[0m\u001b[0;34m\u001b[0m\u001b[0;34m\u001b[0m\u001b[0m\n",
            "\u001b[0;32m/usr/local/lib/python3.11/dist-packages/crewai/agents/crew_agent_executor.py\u001b[0m in \u001b[0;36minvoke\u001b[0;34m(self, inputs)\u001b[0m\n\u001b[1;32m    117\u001b[0m             \u001b[0;32mif\u001b[0m \u001b[0me\u001b[0m\u001b[0;34m.\u001b[0m\u001b[0m__class__\u001b[0m\u001b[0;34m.\u001b[0m\u001b[0m__module__\u001b[0m\u001b[0;34m.\u001b[0m\u001b[0mstartswith\u001b[0m\u001b[0;34m(\u001b[0m\u001b[0;34m\"litellm\"\u001b[0m\u001b[0;34m)\u001b[0m\u001b[0;34m:\u001b[0m\u001b[0;34m\u001b[0m\u001b[0;34m\u001b[0m\u001b[0m\n\u001b[1;32m    118\u001b[0m                 \u001b[0;31m# Do not retry on litellm errors\u001b[0m\u001b[0;34m\u001b[0m\u001b[0;34m\u001b[0m\u001b[0m\n\u001b[0;32m--> 119\u001b[0;31m                 \u001b[0;32mraise\u001b[0m \u001b[0me\u001b[0m\u001b[0;34m\u001b[0m\u001b[0;34m\u001b[0m\u001b[0m\n\u001b[0m\u001b[1;32m    120\u001b[0m             \u001b[0;32melse\u001b[0m\u001b[0;34m:\u001b[0m\u001b[0;34m\u001b[0m\u001b[0;34m\u001b[0m\u001b[0m\n\u001b[1;32m    121\u001b[0m                 \u001b[0;32mraise\u001b[0m \u001b[0me\u001b[0m\u001b[0;34m\u001b[0m\u001b[0;34m\u001b[0m\u001b[0m\n",
            "\u001b[0;32m/usr/local/lib/python3.11/dist-packages/crewai/agents/crew_agent_executor.py\u001b[0m in \u001b[0;36minvoke\u001b[0;34m(self, inputs)\u001b[0m\n\u001b[1;32m    106\u001b[0m \u001b[0;34m\u001b[0m\u001b[0m\n\u001b[1;32m    107\u001b[0m         \u001b[0;32mtry\u001b[0m\u001b[0;34m:\u001b[0m\u001b[0;34m\u001b[0m\u001b[0;34m\u001b[0m\u001b[0m\n\u001b[0;32m--> 108\u001b[0;31m             \u001b[0mformatted_answer\u001b[0m \u001b[0;34m=\u001b[0m \u001b[0mself\u001b[0m\u001b[0;34m.\u001b[0m\u001b[0m_invoke_loop\u001b[0m\u001b[0;34m(\u001b[0m\u001b[0;34m)\u001b[0m\u001b[0;34m\u001b[0m\u001b[0;34m\u001b[0m\u001b[0m\n\u001b[0m\u001b[1;32m    109\u001b[0m         \u001b[0;32mexcept\u001b[0m \u001b[0mAssertionError\u001b[0m\u001b[0;34m:\u001b[0m\u001b[0;34m\u001b[0m\u001b[0;34m\u001b[0m\u001b[0m\n\u001b[1;32m    110\u001b[0m             self._printer.print(\n",
            "\u001b[0;32m/usr/local/lib/python3.11/dist-packages/crewai/agents/crew_agent_executor.py\u001b[0m in \u001b[0;36m_invoke_loop\u001b[0;34m(self)\u001b[0m\n\u001b[1;32m    164\u001b[0m                 \u001b[0;32mif\u001b[0m \u001b[0me\u001b[0m\u001b[0;34m.\u001b[0m\u001b[0m__class__\u001b[0m\u001b[0;34m.\u001b[0m\u001b[0m__module__\u001b[0m\u001b[0;34m.\u001b[0m\u001b[0mstartswith\u001b[0m\u001b[0;34m(\u001b[0m\u001b[0;34m\"litellm\"\u001b[0m\u001b[0;34m)\u001b[0m\u001b[0;34m:\u001b[0m\u001b[0;34m\u001b[0m\u001b[0;34m\u001b[0m\u001b[0m\n\u001b[1;32m    165\u001b[0m                     \u001b[0;31m# Do not retry on litellm errors\u001b[0m\u001b[0;34m\u001b[0m\u001b[0;34m\u001b[0m\u001b[0m\n\u001b[0;32m--> 166\u001b[0;31m                     \u001b[0;32mraise\u001b[0m \u001b[0me\u001b[0m\u001b[0;34m\u001b[0m\u001b[0;34m\u001b[0m\u001b[0m\n\u001b[0m\u001b[1;32m    167\u001b[0m                 \u001b[0;32mif\u001b[0m \u001b[0mself\u001b[0m\u001b[0;34m.\u001b[0m\u001b[0m_is_context_length_exceeded\u001b[0m\u001b[0;34m(\u001b[0m\u001b[0me\u001b[0m\u001b[0;34m)\u001b[0m\u001b[0;34m:\u001b[0m\u001b[0;34m\u001b[0m\u001b[0;34m\u001b[0m\u001b[0m\n\u001b[1;32m    168\u001b[0m                     \u001b[0mself\u001b[0m\u001b[0;34m.\u001b[0m\u001b[0m_handle_context_length\u001b[0m\u001b[0;34m(\u001b[0m\u001b[0;34m)\u001b[0m\u001b[0;34m\u001b[0m\u001b[0;34m\u001b[0m\u001b[0m\n",
            "\u001b[0;32m/usr/local/lib/python3.11/dist-packages/crewai/agents/crew_agent_executor.py\u001b[0m in \u001b[0;36m_invoke_loop\u001b[0;34m(self)\u001b[0m\n\u001b[1;32m    144\u001b[0m                 \u001b[0mself\u001b[0m\u001b[0;34m.\u001b[0m\u001b[0m_enforce_rpm_limit\u001b[0m\u001b[0;34m(\u001b[0m\u001b[0;34m)\u001b[0m\u001b[0;34m\u001b[0m\u001b[0;34m\u001b[0m\u001b[0m\n\u001b[1;32m    145\u001b[0m \u001b[0;34m\u001b[0m\u001b[0m\n\u001b[0;32m--> 146\u001b[0;31m                 \u001b[0manswer\u001b[0m \u001b[0;34m=\u001b[0m \u001b[0mself\u001b[0m\u001b[0;34m.\u001b[0m\u001b[0m_get_llm_response\u001b[0m\u001b[0;34m(\u001b[0m\u001b[0;34m)\u001b[0m\u001b[0;34m\u001b[0m\u001b[0;34m\u001b[0m\u001b[0m\n\u001b[0m\u001b[1;32m    147\u001b[0m                 \u001b[0mformatted_answer\u001b[0m \u001b[0;34m=\u001b[0m \u001b[0mself\u001b[0m\u001b[0;34m.\u001b[0m\u001b[0m_process_llm_response\u001b[0m\u001b[0;34m(\u001b[0m\u001b[0manswer\u001b[0m\u001b[0;34m)\u001b[0m\u001b[0;34m\u001b[0m\u001b[0;34m\u001b[0m\u001b[0m\n\u001b[1;32m    148\u001b[0m \u001b[0;34m\u001b[0m\u001b[0m\n",
            "\u001b[0;32m/usr/local/lib/python3.11/dist-packages/crewai/agents/crew_agent_executor.py\u001b[0m in \u001b[0;36m_get_llm_response\u001b[0;34m(self)\u001b[0m\n\u001b[1;32m    214\u001b[0m                 \u001b[0mcolor\u001b[0m\u001b[0;34m=\u001b[0m\u001b[0;34m\"red\"\u001b[0m\u001b[0;34m,\u001b[0m\u001b[0;34m\u001b[0m\u001b[0;34m\u001b[0m\u001b[0m\n\u001b[1;32m    215\u001b[0m             )\n\u001b[0;32m--> 216\u001b[0;31m             \u001b[0;32mraise\u001b[0m \u001b[0me\u001b[0m\u001b[0;34m\u001b[0m\u001b[0;34m\u001b[0m\u001b[0m\n\u001b[0m\u001b[1;32m    217\u001b[0m \u001b[0;34m\u001b[0m\u001b[0m\n\u001b[1;32m    218\u001b[0m         \u001b[0;32mif\u001b[0m \u001b[0;32mnot\u001b[0m \u001b[0manswer\u001b[0m\u001b[0;34m:\u001b[0m\u001b[0;34m\u001b[0m\u001b[0;34m\u001b[0m\u001b[0m\n",
            "\u001b[0;32m/usr/local/lib/python3.11/dist-packages/crewai/agents/crew_agent_executor.py\u001b[0m in \u001b[0;36m_get_llm_response\u001b[0;34m(self)\u001b[0m\n\u001b[1;32m    205\u001b[0m         \u001b[0;34m\"\"\"Call the LLM and return the response, handling any invalid responses.\"\"\"\u001b[0m\u001b[0;34m\u001b[0m\u001b[0;34m\u001b[0m\u001b[0m\n\u001b[1;32m    206\u001b[0m         \u001b[0;32mtry\u001b[0m\u001b[0;34m:\u001b[0m\u001b[0;34m\u001b[0m\u001b[0;34m\u001b[0m\u001b[0m\n\u001b[0;32m--> 207\u001b[0;31m             answer = self.llm.call(\n\u001b[0m\u001b[1;32m    208\u001b[0m                 \u001b[0mself\u001b[0m\u001b[0;34m.\u001b[0m\u001b[0mmessages\u001b[0m\u001b[0;34m,\u001b[0m\u001b[0;34m\u001b[0m\u001b[0;34m\u001b[0m\u001b[0m\n\u001b[1;32m    209\u001b[0m                 \u001b[0mcallbacks\u001b[0m\u001b[0;34m=\u001b[0m\u001b[0mself\u001b[0m\u001b[0;34m.\u001b[0m\u001b[0mcallbacks\u001b[0m\u001b[0;34m,\u001b[0m\u001b[0;34m\u001b[0m\u001b[0;34m\u001b[0m\u001b[0m\n",
            "\u001b[0;32m/usr/local/lib/python3.11/dist-packages/crewai/llm.py\u001b[0m in \u001b[0;36mcall\u001b[0;34m(self, messages, tools, callbacks, available_functions)\u001b[0m\n\u001b[1;32m    308\u001b[0m \u001b[0;34m\u001b[0m\u001b[0m\n\u001b[1;32m    309\u001b[0m                 \u001b[0;31m# --- 2) Make the completion call\u001b[0m\u001b[0;34m\u001b[0m\u001b[0;34m\u001b[0m\u001b[0m\n\u001b[0;32m--> 310\u001b[0;31m                 \u001b[0mresponse\u001b[0m \u001b[0;34m=\u001b[0m \u001b[0mlitellm\u001b[0m\u001b[0;34m.\u001b[0m\u001b[0mcompletion\u001b[0m\u001b[0;34m(\u001b[0m\u001b[0;34m**\u001b[0m\u001b[0mparams\u001b[0m\u001b[0;34m)\u001b[0m\u001b[0;34m\u001b[0m\u001b[0;34m\u001b[0m\u001b[0m\n\u001b[0m\u001b[1;32m    311\u001b[0m                 response_message = cast(Choices, cast(ModelResponse, response).choices)[\n\u001b[1;32m    312\u001b[0m                     \u001b[0;36m0\u001b[0m\u001b[0;34m\u001b[0m\u001b[0;34m\u001b[0m\u001b[0m\n",
            "\u001b[0;32m/usr/local/lib/python3.11/dist-packages/litellm/utils.py\u001b[0m in \u001b[0;36mwrapper\u001b[0;34m(*args, **kwargs)\u001b[0m\n\u001b[1;32m   1152\u001b[0m                     \u001b[0me\u001b[0m\u001b[0;34m,\u001b[0m \u001b[0mtraceback_exception\u001b[0m\u001b[0;34m,\u001b[0m \u001b[0mstart_time\u001b[0m\u001b[0;34m,\u001b[0m \u001b[0mend_time\u001b[0m\u001b[0;34m\u001b[0m\u001b[0;34m\u001b[0m\u001b[0m\n\u001b[1;32m   1153\u001b[0m                 )  # DO NOT MAKE THREADED - router retry fallback relies on this!\n\u001b[0;32m-> 1154\u001b[0;31m             \u001b[0;32mraise\u001b[0m \u001b[0me\u001b[0m\u001b[0;34m\u001b[0m\u001b[0;34m\u001b[0m\u001b[0m\n\u001b[0m\u001b[1;32m   1155\u001b[0m \u001b[0;34m\u001b[0m\u001b[0m\n\u001b[1;32m   1156\u001b[0m     \u001b[0;34m@\u001b[0m\u001b[0mwraps\u001b[0m\u001b[0;34m(\u001b[0m\u001b[0moriginal_function\u001b[0m\u001b[0;34m)\u001b[0m\u001b[0;34m\u001b[0m\u001b[0;34m\u001b[0m\u001b[0m\n",
            "\u001b[0;32m/usr/local/lib/python3.11/dist-packages/litellm/utils.py\u001b[0m in \u001b[0;36mwrapper\u001b[0;34m(*args, **kwargs)\u001b[0m\n\u001b[1;32m   1030\u001b[0m                     \u001b[0mprint_verbose\u001b[0m\u001b[0;34m(\u001b[0m\u001b[0;34mf\"Error while checking max token limit: {str(e)}\"\u001b[0m\u001b[0;34m)\u001b[0m\u001b[0;34m\u001b[0m\u001b[0;34m\u001b[0m\u001b[0m\n\u001b[1;32m   1031\u001b[0m             \u001b[0;31m# MODEL CALL\u001b[0m\u001b[0;34m\u001b[0m\u001b[0;34m\u001b[0m\u001b[0m\n\u001b[0;32m-> 1032\u001b[0;31m             \u001b[0mresult\u001b[0m \u001b[0;34m=\u001b[0m \u001b[0moriginal_function\u001b[0m\u001b[0;34m(\u001b[0m\u001b[0;34m*\u001b[0m\u001b[0margs\u001b[0m\u001b[0;34m,\u001b[0m \u001b[0;34m**\u001b[0m\u001b[0mkwargs\u001b[0m\u001b[0;34m)\u001b[0m\u001b[0;34m\u001b[0m\u001b[0;34m\u001b[0m\u001b[0m\n\u001b[0m\u001b[1;32m   1033\u001b[0m             \u001b[0mend_time\u001b[0m \u001b[0;34m=\u001b[0m \u001b[0mdatetime\u001b[0m\u001b[0;34m.\u001b[0m\u001b[0mdatetime\u001b[0m\u001b[0;34m.\u001b[0m\u001b[0mnow\u001b[0m\u001b[0;34m(\u001b[0m\u001b[0;34m)\u001b[0m\u001b[0;34m\u001b[0m\u001b[0;34m\u001b[0m\u001b[0m\n\u001b[1;32m   1034\u001b[0m             \u001b[0;32mif\u001b[0m \u001b[0;34m\"stream\"\u001b[0m \u001b[0;32min\u001b[0m \u001b[0mkwargs\u001b[0m \u001b[0;32mand\u001b[0m \u001b[0mkwargs\u001b[0m\u001b[0;34m[\u001b[0m\u001b[0;34m\"stream\"\u001b[0m\u001b[0;34m]\u001b[0m \u001b[0;32mis\u001b[0m \u001b[0;32mTrue\u001b[0m\u001b[0;34m:\u001b[0m\u001b[0;34m\u001b[0m\u001b[0;34m\u001b[0m\u001b[0m\n",
            "\u001b[0;32m/usr/local/lib/python3.11/dist-packages/litellm/main.py\u001b[0m in \u001b[0;36mcompletion\u001b[0;34m(model, messages, timeout, temperature, top_p, n, stream, stream_options, stop, max_completion_tokens, max_tokens, modalities, prediction, audio, presence_penalty, frequency_penalty, logit_bias, user, reasoning_effort, response_format, seed, tools, tool_choice, logprobs, top_logprobs, parallel_tool_calls, deployment_id, extra_headers, functions, function_call, base_url, api_version, api_key, model_list, **kwargs)\u001b[0m\n\u001b[1;32m   3066\u001b[0m     \u001b[0;32mexcept\u001b[0m \u001b[0mException\u001b[0m \u001b[0;32mas\u001b[0m \u001b[0me\u001b[0m\u001b[0;34m:\u001b[0m\u001b[0;34m\u001b[0m\u001b[0;34m\u001b[0m\u001b[0m\n\u001b[1;32m   3067\u001b[0m         \u001b[0;31m## Map to OpenAI Exception\u001b[0m\u001b[0;34m\u001b[0m\u001b[0;34m\u001b[0m\u001b[0m\n\u001b[0;32m-> 3068\u001b[0;31m         raise exception_type(\n\u001b[0m\u001b[1;32m   3069\u001b[0m             \u001b[0mmodel\u001b[0m\u001b[0;34m=\u001b[0m\u001b[0mmodel\u001b[0m\u001b[0;34m,\u001b[0m\u001b[0;34m\u001b[0m\u001b[0;34m\u001b[0m\u001b[0m\n\u001b[1;32m   3070\u001b[0m             \u001b[0mcustom_llm_provider\u001b[0m\u001b[0;34m=\u001b[0m\u001b[0mcustom_llm_provider\u001b[0m\u001b[0;34m,\u001b[0m\u001b[0;34m\u001b[0m\u001b[0;34m\u001b[0m\u001b[0m\n",
            "\u001b[0;32m/usr/local/lib/python3.11/dist-packages/litellm/litellm_core_utils/exception_mapping_utils.py\u001b[0m in \u001b[0;36mexception_type\u001b[0;34m(model, original_exception, custom_llm_provider, completion_kwargs, extra_kwargs)\u001b[0m\n\u001b[1;32m   2199\u001b[0m         \u001b[0;32mif\u001b[0m \u001b[0mexception_mapping_worked\u001b[0m\u001b[0;34m:\u001b[0m\u001b[0;34m\u001b[0m\u001b[0;34m\u001b[0m\u001b[0m\n\u001b[1;32m   2200\u001b[0m             \u001b[0msetattr\u001b[0m\u001b[0;34m(\u001b[0m\u001b[0me\u001b[0m\u001b[0;34m,\u001b[0m \u001b[0;34m\"litellm_response_headers\"\u001b[0m\u001b[0;34m,\u001b[0m \u001b[0mlitellm_response_headers\u001b[0m\u001b[0;34m)\u001b[0m\u001b[0;34m\u001b[0m\u001b[0;34m\u001b[0m\u001b[0m\n\u001b[0;32m-> 2201\u001b[0;31m             \u001b[0;32mraise\u001b[0m \u001b[0me\u001b[0m\u001b[0;34m\u001b[0m\u001b[0;34m\u001b[0m\u001b[0m\n\u001b[0m\u001b[1;32m   2202\u001b[0m         \u001b[0;32melse\u001b[0m\u001b[0;34m:\u001b[0m\u001b[0;34m\u001b[0m\u001b[0;34m\u001b[0m\u001b[0m\n\u001b[1;32m   2203\u001b[0m             \u001b[0;32mfor\u001b[0m \u001b[0merror_type\u001b[0m \u001b[0;32min\u001b[0m \u001b[0mlitellm\u001b[0m\u001b[0;34m.\u001b[0m\u001b[0mLITELLM_EXCEPTION_TYPES\u001b[0m\u001b[0;34m:\u001b[0m\u001b[0;34m\u001b[0m\u001b[0;34m\u001b[0m\u001b[0m\n",
            "\u001b[0;32m/usr/local/lib/python3.11/dist-packages/litellm/litellm_core_utils/exception_mapping_utils.py\u001b[0m in \u001b[0;36mexception_type\u001b[0;34m(model, original_exception, custom_llm_provider, completion_kwargs, extra_kwargs)\u001b[0m\n\u001b[1;32m    343\u001b[0m                 \u001b[0;32melif\u001b[0m \u001b[0;34m\"Request too large\"\u001b[0m \u001b[0;32min\u001b[0m \u001b[0merror_str\u001b[0m\u001b[0;34m:\u001b[0m\u001b[0;34m\u001b[0m\u001b[0;34m\u001b[0m\u001b[0m\n\u001b[1;32m    344\u001b[0m                     \u001b[0mexception_mapping_worked\u001b[0m \u001b[0;34m=\u001b[0m \u001b[0;32mTrue\u001b[0m\u001b[0;34m\u001b[0m\u001b[0;34m\u001b[0m\u001b[0m\n\u001b[0;32m--> 345\u001b[0;31m                     raise RateLimitError(\n\u001b[0m\u001b[1;32m    346\u001b[0m                         \u001b[0mmessage\u001b[0m\u001b[0;34m=\u001b[0m\u001b[0;34mf\"RateLimitError: {exception_provider} - {message}\"\u001b[0m\u001b[0;34m,\u001b[0m\u001b[0;34m\u001b[0m\u001b[0;34m\u001b[0m\u001b[0m\n\u001b[1;32m    347\u001b[0m                         \u001b[0mmodel\u001b[0m\u001b[0;34m=\u001b[0m\u001b[0mmodel\u001b[0m\u001b[0;34m,\u001b[0m\u001b[0;34m\u001b[0m\u001b[0;34m\u001b[0m\u001b[0m\n",
            "\u001b[0;31mRateLimitError\u001b[0m: litellm.RateLimitError: RateLimitError: GroqException - {\"error\":{\"message\":\"Request too large for model `mixtral-8x7b-32768` in organization `org_01jp410k5keg580gff4q5h8a22` service tier `on_demand` on tokens per minute (TPM): Limit 5000, Requested 7954, please reduce your message size and try again. Visit https://console.groq.com/docs/rate-limits for more information.\",\"type\":\"tokens\",\"code\":\"rate_limit_exceeded\"}}\n"
          ]
        }
      ]
    },
    {
      "cell_type": "code",
      "source": [
        "from IPython.display import Markdown\n",
        "Markdown(str(result))"
      ],
      "metadata": {
        "id": "zT_XpkQRDi8x"
      },
      "execution_count": null,
      "outputs": []
    }
  ]
}